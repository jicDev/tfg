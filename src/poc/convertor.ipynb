{
 "cells": [
  {
   "cell_type": "code",
   "execution_count": 4,
   "id": "8f3fd509",
   "metadata": {
    "scrolled": true
   },
   "outputs": [
    {
     "name": "stdout",
     "output_type": "stream",
     "text": [
      "Ok\n"
     ]
    }
   ],
   "source": [
    "import subprocess\n",
    "src_filename = 'tos-test-0011.ogg'\n",
    "dest_filename = 'toses/tos-test-0011.wav'\n",
    "\n",
    "process = subprocess.run(['c:\\\\dev\\\\ffmpeg\\\\bin\\\\ffmpeg', '-i', src_filename, dest_filename])\n",
    "if process.returncode != 0:\n",
    "    raise Exception(\"Something went wrong\")\n",
    "else:\n",
    "    print('Ok')"
   ]
  }
 ],
 "metadata": {
  "kernelspec": {
   "display_name": "Python 3 (ipykernel)",
   "language": "python",
   "name": "python3"
  },
  "language_info": {
   "codemirror_mode": {
    "name": "ipython",
    "version": 3
   },
   "file_extension": ".py",
   "mimetype": "text/x-python",
   "name": "python",
   "nbconvert_exporter": "python",
   "pygments_lexer": "ipython3",
   "version": "3.9.12"
  }
 },
 "nbformat": 4,
 "nbformat_minor": 5
}
